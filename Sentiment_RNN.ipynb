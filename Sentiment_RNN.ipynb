{
  "cells": [
    {
      "cell_type": "code",
      "execution_count": 1,
      "metadata": {
        "id": "w7kcA9xhNSjP"
      },
      "outputs": [],
      "source": [
        "#Import libraries\n",
        "import pandas as pd\n",
        "from sklearn.model_selection import train_test_split\n",
        "import pickle\n",
        "import matplotlib.pyplot as plt\n",
        "import matplotlib.ticker as ticker\n",
        "from IPython.display import HTML\n",
        "import numpy as np\n",
        "from sklearn import preprocessing\n",
        "from keras.datasets import imdb\n",
        "from keras.models import Sequential\n",
        "from keras.preprocessing.sequence import pad_sequences\n",
        "from keras.layers import Embedding, GlobalAveragePooling1D, Dense, SpatialDropout1D, LSTM, Dropout\n",
        "from keras.optimizers import SGD\n",
        "from keras.preprocessing.text import Tokenizer\n",
        "from keras.utils import to_categorical"
      ]
    },
    {
      "cell_type": "code",
      "execution_count": 2,
      "metadata": {
        "id": "M7mXk4j1NSjR"
      },
      "outputs": [],
      "source": [
        "# Define max dictionary words and max lenght of each review\n",
        "num_words = 12000\n",
        "max_phrase_len = 256"
      ]
    },
    {
      "cell_type": "code",
      "execution_count": 3,
      "metadata": {
        "colab": {
          "base_uri": "https://localhost:8080/"
        },
        "id": "AnsswpLeNSjR",
        "outputId": "802bdc5c-84a5-40bd-e7be-7198908526b3"
      },
      "outputs": [
        {
          "output_type": "stream",
          "name": "stdout",
          "text": [
            "Downloading data from https://storage.googleapis.com/tensorflow/tf-keras-datasets/imdb.npz\n",
            "17464789/17464789 [==============================] - 0s 0us/step\n",
            "Training entries: 25000, labels: 25000\n"
          ]
        }
      ],
      "source": [
        "# Import the IMDB movie reviews\n",
        "(X_train, y_train), (X_test, y_test) = imdb.load_data(num_words=num_words)\n",
        "\n",
        "# Display number of training and testing data\n",
        "print(\"Training entries: {}, labels: {}\".format(len(X_train), len(y_train)))"
      ]
    },
    {
      "cell_type": "code",
      "execution_count": 4,
      "metadata": {
        "colab": {
          "base_uri": "https://localhost:8080/"
        },
        "id": "pFmuue0rNSjR",
        "outputId": "d8990bf8-aafc-4a97-b4c9-2c2ed29ea4f6"
      },
      "outputs": [
        {
          "output_type": "stream",
          "name": "stdout",
          "text": [
            "Downloading data from https://storage.googleapis.com/tensorflow/tf-keras-datasets/imdb_word_index.json\n",
            "1641221/1641221 [==============================] - 0s 0us/step\n"
          ]
        }
      ],
      "source": [
        "# Insert special words (START, PAD, UNKNOWN, UNUSED)\n",
        "INDEX_FROM=3\n",
        "word_to_id = imdb.get_word_index()\n",
        "word_to_id = {k:(v+INDEX_FROM) for k,v in word_to_id.items()}\n",
        "word_to_id[\"<PAD>\"] = 0\n",
        "word_to_id[\"<START>\"] = 1\n",
        "word_to_id[\"<UNK>\"] = 2\n",
        "word_to_id[\"<UNUSED>\"] = 3\n",
        "\n",
        "id_to_word = {value:key for key,value in word_to_id.items()}"
      ]
    },
    {
      "cell_type": "code",
      "execution_count": 5,
      "metadata": {
        "colab": {
          "base_uri": "https://localhost:8080/"
        },
        "id": "lwgaS_ckNSjR",
        "outputId": "9f6baabe-201d-4388-9b5d-c2f738947a91"
      },
      "outputs": [
        {
          "output_type": "stream",
          "name": "stdout",
          "text": [
            "[1, 14, 47, 8, 30, 31, 7, 4, 249, 108, 7, 4, 5974, 54, 61, 369, 13, 71, 149, 14, 22, 112, 4, 2401, 311, 12, 16, 3711, 33, 75, 43, 1829, 296, 4, 86, 320, 35, 534, 19, 263, 4821, 1301, 4, 1873, 33, 89, 78, 12, 66, 16, 4, 360, 7, 4, 58, 316, 334, 11, 4, 1716, 43, 645, 662, 8, 257, 85, 1200, 42, 1228, 2578, 83, 68, 3912, 15, 36, 165, 1539, 278, 36, 69, 2, 780, 8, 106, 14, 6905, 1338, 18, 6, 22, 12, 215, 28, 610, 40, 6, 87, 326, 23, 2300, 21, 23, 22, 12, 272, 40, 57, 31, 11, 4, 22, 47, 6, 2307, 51, 9, 170, 23, 595, 116, 595, 1352, 13, 191, 79, 638, 89, 2, 14, 9, 8, 106, 607, 624, 35, 534, 6, 227, 7, 129, 113]\n",
            "<START> this has to be one of the worst films of the 1990s when my friends i were watching this film being the target audience it was aimed at we just sat watched the first half an hour with our jaws touching the floor at how bad it really was the rest of the time everyone else in the theatre just started talking to each other leaving or generally crying into their popcorn that they actually paid money they had <UNK> working to watch this feeble excuse for a film it must have looked like a great idea on paper but on film it looks like no one in the film has a clue what is going on crap acting crap costumes i can't get across how <UNK> this is to watch save yourself an hour a bit of your life\n"
          ]
        }
      ],
      "source": [
        "# Negative review example\n",
        "print(X_train[2])\n",
        "print(' '.join(id_to_word[id] for id in X_train[2] ))"
      ]
    },
    {
      "cell_type": "code",
      "execution_count": 6,
      "metadata": {
        "colab": {
          "base_uri": "https://localhost:8080/"
        },
        "id": "v0gax8kuNSjS",
        "outputId": "ec8b149c-2972-4165-dd87-e3e0cd4ad95b"
      },
      "outputs": [
        {
          "output_type": "stream",
          "name": "stdout",
          "text": [
            "[1, 14, 22, 16, 43, 530, 973, 1622, 1385, 65, 458, 4468, 66, 3941, 4, 173, 36, 256, 5, 25, 100, 43, 838, 112, 50, 670, 2, 9, 35, 480, 284, 5, 150, 4, 172, 112, 167, 2, 336, 385, 39, 4, 172, 4536, 1111, 17, 546, 38, 13, 447, 4, 192, 50, 16, 6, 147, 2025, 19, 14, 22, 4, 1920, 4613, 469, 4, 22, 71, 87, 12, 16, 43, 530, 38, 76, 15, 13, 1247, 4, 22, 17, 515, 17, 12, 16, 626, 18, 2, 5, 62, 386, 12, 8, 316, 8, 106, 5, 4, 2223, 5244, 16, 480, 66, 3785, 33, 4, 130, 12, 16, 38, 619, 5, 25, 124, 51, 36, 135, 48, 25, 1415, 33, 6, 22, 12, 215, 28, 77, 52, 5, 14, 407, 16, 82, 10311, 8, 4, 107, 117, 5952, 15, 256, 4, 2, 7, 3766, 5, 723, 36, 71, 43, 530, 476, 26, 400, 317, 46, 7, 4, 2, 1029, 13, 104, 88, 4, 381, 15, 297, 98, 32, 2071, 56, 26, 141, 6, 194, 7486, 18, 4, 226, 22, 21, 134, 476, 26, 480, 5, 144, 30, 5535, 18, 51, 36, 28, 224, 92, 25, 104, 4, 226, 65, 16, 38, 1334, 88, 12, 16, 283, 5, 16, 4472, 113, 103, 32, 15, 16, 5345, 19, 178, 32]\n",
            "<START> this film was just brilliant casting location scenery story direction everyone's really suited the part they played and you could just imagine being there robert <UNK> is an amazing actor and now the same being director <UNK> father came from the same scottish island as myself so i loved the fact there was a real connection with this film the witty remarks throughout the film were great it was just brilliant so much that i bought the film as soon as it was released for <UNK> and would recommend it to everyone to watch and the fly fishing was amazing really cried at the end it was so sad and you know what they say if you cry at a film it must have been good and this definitely was also congratulations to the two little boy's that played the <UNK> of norman and paul they were just brilliant children are often left out of the <UNK> list i think because the stars that play them all grown up are such a big profile for the whole film but these children are amazing and should be praised for what they have done don't you think the whole story was so lovely because it was true and was someone's life after all that was shared with us all\n"
          ]
        }
      ],
      "source": [
        "# Positive review example\n",
        "print(X_train[0])\n",
        "print(' '.join(id_to_word[id] for id in X_train[0] ))"
      ]
    },
    {
      "cell_type": "code",
      "execution_count": 7,
      "metadata": {
        "colab": {
          "base_uri": "https://localhost:8080/"
        },
        "id": "YYEWj7h2NSjS",
        "outputId": "d62cff29-133f-49a4-eab4-fa2bc5f0236f"
      },
      "outputs": [
        {
          "output_type": "stream",
          "name": "stdout",
          "text": [
            "1\n"
          ]
        }
      ],
      "source": [
        "# Display the target label\n",
        "# 0 = negative, 1 = positive\n",
        "print(y_train[0])"
      ]
    },
    {
      "cell_type": "code",
      "execution_count": 8,
      "metadata": {
        "id": "Fu0DRsmXNSjS"
      },
      "outputs": [],
      "source": [
        "# Align the lenght of each training and test review to 256 by adding PAD words\n",
        "\n",
        "X_train = pad_sequences(\n",
        "    X_train,\n",
        "    value=word_to_id[\"<PAD>\"],\n",
        "    padding='post',\n",
        "    maxlen=max_phrase_len\n",
        ")\n",
        "X_test = pad_sequences(\n",
        "    X_test,\n",
        "    value=word_to_id[\"<PAD>\"],\n",
        "    padding='post',\n",
        "    maxlen=max_phrase_len\n",
        ")"
      ]
    },
    {
      "cell_type": "code",
      "execution_count": 9,
      "metadata": {
        "colab": {
          "base_uri": "https://localhost:8080/"
        },
        "id": "ZBNKFnwxNSjS",
        "outputId": "e0f447f7-5f84-4812-e3e9-989de66eb0ad"
      },
      "outputs": [
        {
          "output_type": "execute_result",
          "data": {
            "text/plain": [
              "(256, 256)"
            ]
          },
          "metadata": {},
          "execution_count": 9
        }
      ],
      "source": [
        "len(X_train[0]), len(X_train[1])"
      ]
    },
    {
      "cell_type": "code",
      "execution_count": 10,
      "metadata": {
        "colab": {
          "base_uri": "https://localhost:8080/"
        },
        "id": "Wc4Jt06FNSjS",
        "outputId": "70e95795-9d1d-4e20-d583-7d3ad68711e6"
      },
      "outputs": [
        {
          "output_type": "stream",
          "name": "stdout",
          "text": [
            "<START> big hair big boobs bad music and a giant safety pin these are the words to best describe this terrible movie i love cheesy horror movies and i've seen hundreds but this had got to be on of the worst ever made the plot is paper thin and ridiculous the acting is an abomination the script is completely laughable the best is the end showdown with the cop and how he worked out who the killer is it's just so damn terribly written the clothes are sickening and funny in equal measures the hair is big lots of boobs bounce men wear those cut <UNK> shirts that show off their <UNK> sickening that men actually wore them and the music is just <UNK> trash that plays over and over again in almost every scene there is trashy music boobs and <UNK> taking away bodies and the gym still doesn't close for <UNK> all joking aside this is a truly bad film whose only charm is to look back on the disaster that was the 80's and have a good old laugh at how bad everything was back then <PAD> <PAD> <PAD> <PAD> <PAD> <PAD> <PAD> <PAD> <PAD> <PAD> <PAD> <PAD> <PAD> <PAD> <PAD> <PAD> <PAD> <PAD> <PAD> <PAD> <PAD> <PAD> <PAD> <PAD> <PAD> <PAD> <PAD> <PAD> <PAD> <PAD> <PAD> <PAD> <PAD> <PAD> <PAD> <PAD> <PAD> <PAD> <PAD> <PAD> <PAD> <PAD> <PAD> <PAD> <PAD> <PAD> <PAD> <PAD> <PAD> <PAD> <PAD> <PAD> <PAD> <PAD> <PAD> <PAD> <PAD> <PAD> <PAD> <PAD> <PAD> <PAD> <PAD> <PAD> <PAD> <PAD> <PAD>\n"
          ]
        }
      ],
      "source": [
        "# Display the result after the Padding process (words)\n",
        "print(' '.join(id_to_word[id] for id in X_train[1] ))"
      ]
    },
    {
      "cell_type": "code",
      "execution_count": 11,
      "metadata": {
        "colab": {
          "base_uri": "https://localhost:8080/"
        },
        "id": "zuDvuRTaNSjS",
        "outputId": "f7a6e345-725f-4e17-b644-8cdd5b7603b8"
      },
      "outputs": [
        {
          "output_type": "stream",
          "name": "stdout",
          "text": [
            "[    1   194  1153   194  8255    78   228     5     6  1463  4369  5012\n",
            "   134    26     4   715     8   118  1634    14   394    20    13   119\n",
            "   954   189   102     5   207   110  3103    21    14    69   188     8\n",
            "    30    23     7     4   249   126    93     4   114     9  2300  1523\n",
            "     5   647     4   116     9    35  8163     4   229     9   340  1322\n",
            "     4   118     9     4   130  4901    19     4  1002     5    89    29\n",
            "   952    46    37     4   455     9    45    43    38  1543  1905   398\n",
            "     4  1649    26  6853     5   163    11  3215 10156     4  1153     9\n",
            "   194   775     7  8255 11596   349  2637   148   605     2  8003    15\n",
            "   123   125    68     2  6853    15   349   165  4362    98     5     4\n",
            "   228     9    43     2  1157    15   299   120     5   120   174    11\n",
            "   220   175   136    50     9  4373   228  8255     5     2   656   245\n",
            "  2350     5     4  9837   131   152   491    18     2    32  7464  1212\n",
            "    14     9     6   371    78    22   625    64  1382     9     8   168\n",
            "   145    23     4  1690    15    16     4  1355     5    28     6    52\n",
            "   154   462    33    89    78   285    16   145    95     0     0     0\n",
            "     0     0     0     0     0     0     0     0     0     0     0     0\n",
            "     0     0     0     0     0     0     0     0     0     0     0     0\n",
            "     0     0     0     0     0     0     0     0     0     0     0     0\n",
            "     0     0     0     0     0     0     0     0     0     0     0     0\n",
            "     0     0     0     0     0     0     0     0     0     0     0     0\n",
            "     0     0     0     0]\n"
          ]
        }
      ],
      "source": [
        "# Display the result after the Padding process (tokenized)\n",
        "print(X_train[1])"
      ]
    },
    {
      "cell_type": "code",
      "execution_count": 12,
      "metadata": {
        "colab": {
          "base_uri": "https://localhost:8080/"
        },
        "id": "Cr-muymbNSjS",
        "outputId": "97a15672-698b-4f2d-aac7-e8a8bc57c11b"
      },
      "outputs": [
        {
          "output_type": "stream",
          "name": "stdout",
          "text": [
            "Model: \"sequential\"\n",
            "_________________________________________________________________\n",
            " Layer (type)                Output Shape              Param #   \n",
            "=================================================================\n",
            " embedding (Embedding)       (None, 256, 32)           384000    \n",
            "                                                                 \n",
            " spatial_dropout1d (Spatial  (None, 256, 32)           0         \n",
            " Dropout1D)                                                      \n",
            "                                                                 \n",
            " lstm (LSTM)                 (None, 256, 32)           8320      \n",
            "                                                                 \n",
            " lstm_1 (LSTM)               (None, 32)                8320      \n",
            "                                                                 \n",
            " dense (Dense)               (None, 128)               4224      \n",
            "                                                                 \n",
            " dropout (Dropout)           (None, 128)               0         \n",
            "                                                                 \n",
            " dense_1 (Dense)             (None, 2)                 258       \n",
            "                                                                 \n",
            "=================================================================\n",
            "Total params: 405122 (1.55 MB)\n",
            "Trainable params: 405122 (1.55 MB)\n",
            "Non-trainable params: 0 (0.00 Byte)\n",
            "_________________________________________________________________\n"
          ]
        }
      ],
      "source": [
        "# Create the RNN Neural Network\n",
        "\n",
        "model_lstm = Sequential()\n",
        "model_lstm.add(Embedding(input_dim = num_words, output_dim = 32, input_length = max_phrase_len))\n",
        "model_lstm.add(SpatialDropout1D(0.1))\n",
        "model_lstm.add(LSTM(32, dropout = 0.2, recurrent_dropout = 0.2,return_sequences=True))\n",
        "model_lstm.add(LSTM(32))\n",
        "model_lstm.add(Dense(128, activation = 'relu'))\n",
        "model_lstm.add(Dropout(0.2))\n",
        "model_lstm.add(Dense(2, activation = 'softmax'))\n",
        "\n",
        "model_lstm.summary()"
      ]
    },
    {
      "cell_type": "code",
      "execution_count": 13,
      "metadata": {
        "id": "VDIQijJKNSjS"
      },
      "outputs": [],
      "source": [
        "# Compile the RNN model\n",
        "\n",
        "model_lstm.compile(\n",
        "    loss='sparse_categorical_crossentropy',\n",
        "    optimizer='Adam',\n",
        "    metrics=['accuracy']\n",
        ")"
      ]
    },
    {
      "cell_type": "code",
      "execution_count": 14,
      "metadata": {
        "colab": {
          "base_uri": "https://localhost:8080/"
        },
        "id": "E09sLIBJNSjS",
        "outputId": "a6d2ee07-6f41-429a-9cd9-6cdd3887feef"
      },
      "outputs": [
        {
          "output_type": "stream",
          "name": "stdout",
          "text": [
            "Epoch 1/20\n",
            "313/313 [==============================] - 141s 431ms/step - loss: 0.6684 - accuracy: 0.5592 - val_loss: 0.7502 - val_accuracy: 0.7254\n",
            "Epoch 2/20\n",
            "313/313 [==============================] - 133s 424ms/step - loss: 0.6655 - accuracy: 0.5930 - val_loss: 0.6856 - val_accuracy: 0.5354\n",
            "Epoch 3/20\n",
            "313/313 [==============================] - 131s 420ms/step - loss: 0.6649 - accuracy: 0.5932 - val_loss: 0.5735 - val_accuracy: 0.7304\n",
            "Epoch 4/20\n",
            "313/313 [==============================] - 133s 425ms/step - loss: 0.5183 - accuracy: 0.7520 - val_loss: 0.5477 - val_accuracy: 0.7810\n",
            "Epoch 5/20\n",
            "313/313 [==============================] - 139s 444ms/step - loss: 0.4650 - accuracy: 0.8084 - val_loss: 0.4727 - val_accuracy: 0.8068\n",
            "Epoch 6/20\n",
            "313/313 [==============================] - 141s 449ms/step - loss: 0.4295 - accuracy: 0.8238 - val_loss: 0.6144 - val_accuracy: 0.6594\n",
            "Epoch 7/20\n",
            "313/313 [==============================] - 139s 444ms/step - loss: 0.4610 - accuracy: 0.8030 - val_loss: 0.5391 - val_accuracy: 0.7394\n",
            "Epoch 8/20\n",
            "313/313 [==============================] - 134s 427ms/step - loss: 0.4323 - accuracy: 0.8289 - val_loss: 0.4817 - val_accuracy: 0.7926\n",
            "Epoch 9/20\n",
            "313/313 [==============================] - 138s 440ms/step - loss: 0.3541 - accuracy: 0.8613 - val_loss: 0.5084 - val_accuracy: 0.8072\n",
            "Epoch 10/20\n",
            "313/313 [==============================] - 151s 483ms/step - loss: 0.3464 - accuracy: 0.8656 - val_loss: 0.5418 - val_accuracy: 0.7938\n",
            "Epoch 11/20\n",
            "313/313 [==============================] - 145s 463ms/step - loss: 0.3254 - accuracy: 0.8672 - val_loss: 0.5216 - val_accuracy: 0.8166\n",
            "Epoch 12/20\n",
            "313/313 [==============================] - 147s 469ms/step - loss: 0.3406 - accuracy: 0.8679 - val_loss: 0.4866 - val_accuracy: 0.7946\n",
            "Epoch 13/20\n",
            "313/313 [==============================] - 133s 424ms/step - loss: 0.3022 - accuracy: 0.8787 - val_loss: 0.4513 - val_accuracy: 0.8292\n",
            "Epoch 14/20\n",
            "313/313 [==============================] - 130s 417ms/step - loss: 0.4996 - accuracy: 0.7353 - val_loss: 0.6112 - val_accuracy: 0.6708\n",
            "Epoch 15/20\n",
            "313/313 [==============================] - 132s 421ms/step - loss: 0.4707 - accuracy: 0.7877 - val_loss: 0.3997 - val_accuracy: 0.8314\n",
            "Epoch 16/20\n",
            "313/313 [==============================] - 129s 414ms/step - loss: 0.2288 - accuracy: 0.9103 - val_loss: 0.3527 - val_accuracy: 0.8594\n",
            "Epoch 17/20\n",
            "313/313 [==============================] - 131s 419ms/step - loss: 0.1718 - accuracy: 0.9376 - val_loss: 0.3410 - val_accuracy: 0.8770\n",
            "Epoch 18/20\n",
            "313/313 [==============================] - 130s 417ms/step - loss: 0.1428 - accuracy: 0.9481 - val_loss: 0.3605 - val_accuracy: 0.8772\n",
            "Epoch 19/20\n",
            "313/313 [==============================] - 132s 420ms/step - loss: 0.1114 - accuracy: 0.9632 - val_loss: 0.3867 - val_accuracy: 0.8788\n",
            "Epoch 20/20\n",
            "313/313 [==============================] - 135s 433ms/step - loss: 0.0891 - accuracy: 0.9717 - val_loss: 0.4048 - val_accuracy: 0.8778\n"
          ]
        }
      ],
      "source": [
        "# Fit our model\n",
        "\n",
        "history = model_lstm.fit(\n",
        "    X_train,\n",
        "    y_train,\n",
        "    validation_split = 0.2,\n",
        "    epochs = 20,\n",
        "    batch_size = 64\n",
        ")"
      ]
    },
    {
      "cell_type": "code",
      "execution_count": 15,
      "metadata": {
        "colab": {
          "base_uri": "https://localhost:8080/",
          "height": 472
        },
        "id": "jtG4Ox8FNSjS",
        "outputId": "4297c93d-5e91-4615-b040-3846f2653df0"
      },
      "outputs": [
        {
          "output_type": "display_data",
          "data": {
            "text/plain": [
              "<Figure size 640x480 with 1 Axes>"
            ],
            "image/png": "[encoded data removed]"
          },
          "metadata": {}
        }
      ],
      "source": [
        "#Plot the Loss\n",
        "plt.clf()\n",
        "loss = history.history['loss']\n",
        "val_loss = history.history['val_loss']\n",
        "epochs = range(1, len(loss) + 1)\n",
        "plt.plot(epochs, loss, 'g', label='Training loss')\n",
        "plt.plot(epochs, val_loss, 'y', label='Validation loss')\n",
        "plt.title('Training and validation loss')\n",
        "plt.xlabel('Epochs')\n",
        "plt.ylabel('Loss')\n",
        "plt.legend()\n",
        "plt.show()"
      ]
    },
    {
      "cell_type": "code",
      "execution_count": 16,
      "metadata": {
        "colab": {
          "base_uri": "https://localhost:8080/",
          "height": 472
        },
        "id": "Cbt9EACFNSjS",
        "outputId": "3cbc76ad-e721-42d8-e775-021adf9041fc"
      },
      "outputs": [
        {
          "output_type": "display_data",
          "data": {
            "text/plain": [
              "<Figure size 640x480 with 1 Axes>"
            ],
            "image/png": "[encoded data removed]"
          },
          "metadata": {}
        }
      ],
      "source": [
        "#Plot the accuracy\n",
        "plt.clf()\n",
        "acc = history.history['accuracy']\n",
        "val_acc = history.history['val_accuracy']\n",
        "plt.plot(epochs, acc, 'g', label='Training acc')\n",
        "plt.plot(epochs, val_acc, 'y', label='Validation acc')\n",
        "plt.title('Training and validation accuracy')\n",
        "plt.xlabel('Epochs')\n",
        "plt.ylabel('Accuracy')\n",
        "plt.legend()\n",
        "plt.show()"
      ]
    },
    {
      "cell_type": "code",
      "execution_count": 17,
      "metadata": {
        "colab": {
          "base_uri": "https://localhost:8080/"
        },
        "id": "2qMoCMPENSjT",
        "outputId": "4d049b14-cf59-4c73-f90a-d76714cdbb57"
      },
      "outputs": [
        {
          "output_type": "stream",
          "name": "stderr",
          "text": [
            "/usr/local/lib/python3.10/dist-packages/keras/src/engine/training.py:3103: UserWarning: You are saving your model as an HDF5 file via `model.save()`. This file format is considered legacy. We recommend using instead the native Keras format, e.g. `model.save('my_model.keras')`.\n",
            "  saving_api.save_model(\n"
          ]
        }
      ],
      "source": [
        "#Save the model to disk\n",
        "model_lstm.save('finalized_model_sentiment.h5')"
      ]
    },
    {
      "cell_type": "code",
      "execution_count": 18,
      "metadata": {
        "colab": {
          "base_uri": "https://localhost:8080/"
        },
        "id": "usqwviQJNSjT",
        "outputId": "9b5363e4-fdb9-4b0f-93de-a8aaf791355f"
      },
      "outputs": [
        {
          "output_type": "execute_result",
          "data": {
            "text/plain": [
              "1"
            ]
          },
          "metadata": {},
          "execution_count": 18
        }
      ],
      "source": [
        "# Display the review to be predicted\n",
        "# 0=Negative\n",
        "# 1=Positive\n",
        "review_index = 2\n",
        "y_test[review_index]"
      ]
    },
    {
      "cell_type": "code",
      "execution_count": 19,
      "metadata": {
        "colab": {
          "base_uri": "https://localhost:8080/"
        },
        "id": "6Fnd01u3NSjT",
        "outputId": "5e74c5e5-ad98-4b1e-a027-9d93ac306617"
      },
      "outputs": [
        {
          "output_type": "stream",
          "name": "stdout",
          "text": [
            "1/1 [==============================] - 1s 698ms/step\n",
            "\n",
            "\u001b[1mPredicted sentiment [0=Negative - 1=Positive]: 1 \u001b[0m \n",
            " \n",
            "Predicted probability array:\n",
            "[[0.00696994 0.99303013]]\n"
          ]
        }
      ],
      "source": [
        "#Sentiment Prediction\n",
        "#Make the inference by using the fitted RNN model\n",
        "pred = model_lstm.predict(X_test[review_index].reshape(-1,256))\n",
        "print(\"\\n\\033[1mPredicted sentiment [0=Negative - 1=Positive]: %.0f\"%pred.argmax(),\"\\033[0m \\n \")\n",
        "print(\"Predicted probability array:\")\n",
        "print(pred)"
      ]
    },
    {
      "cell_type": "code",
      "execution_count": 20,
      "metadata": {
        "colab": {
          "base_uri": "https://localhost:8080/"
        },
        "id": "PsHq-uycNSjT",
        "outputId": "f7f36919-ca6a-4716-e090-334156832ab2"
      },
      "outputs": [
        {
          "output_type": "execute_result",
          "data": {
            "text/plain": [
              "0"
            ]
          },
          "metadata": {},
          "execution_count": 20
        }
      ],
      "source": [
        "# Display the review to be predicted\n",
        "# 0=Negative\n",
        "# 1=Positive\n",
        "\n",
        "review_index = 3\n",
        "y_test[review_index]"
      ]
    },
    {
      "cell_type": "code",
      "execution_count": 21,
      "metadata": {
        "colab": {
          "base_uri": "https://localhost:8080/"
        },
        "id": "QeoWzyPkNSjT",
        "outputId": "6d13e38d-9e14-4619-e9d7-77469c16dc08"
      },
      "outputs": [
        {
          "output_type": "stream",
          "name": "stdout",
          "text": [
            "1/1 [==============================] - 0s 59ms/step\n",
            "\n",
            "\u001b[1mPredicted sentiment [0=Negative - 1=Positive]: 0 \u001b[0m \n",
            " \n",
            "Predicted probability array:\n",
            "[[0.9229685  0.07703151]]\n"
          ]
        }
      ],
      "source": [
        "#Sentiment Prediction\n",
        "#Make the inference by using the fitted RNN model\n",
        "pred = model_lstm.predict(X_test[review_index].reshape(-1,256))\n",
        "\n",
        "print(\"\\n\\033[1mPredicted sentiment [0=Negative - 1=Positive]: %.0f\"%pred.argmax(),\"\\033[0m \\n \")\n",
        "print(\"Predicted probability array:\")\n",
        "print(pred)"
      ]
    },
    {
      "cell_type": "code",
      "execution_count": 21,
      "metadata": {
        "id": "7xIl6j8wNSjT"
      },
      "outputs": [],
      "source": []
    }
  ],
  "metadata": {
    "kernelspec": {
      "display_name": "Python 3 (ipykernel)",
      "language": "python",
      "name": "python3"
    },
    "language_info": {
      "codemirror_mode": {
        "name": "ipython",
        "version": 3
      },
      "file_extension": ".py",
      "mimetype": "text/x-python",
      "name": "python",
      "nbconvert_exporter": "python",
      "pygments_lexer": "ipython3",
      "version": "3.9.7"
    },
    "colab": {
      "provenance": []
    }
  },
  "nbformat": 4,
  "nbformat_minor": 0
}